{
 "cells": [
  {
   "cell_type": "code",
   "execution_count": 1,
   "id": "b24e33b5-5fd8-4deb-afa0-60c6cd7d0113",
   "metadata": {},
   "outputs": [
    {
     "data": {
      "text/plain": [
       "9525.599999999999"
      ]
     },
     "execution_count": 1,
     "metadata": {},
     "output_type": "execute_result"
    }
   ],
   "source": [
    "principle_amount = 567.00\n",
    "rate_of_interest = 5.6\n",
    "time = 3\n",
    "\n",
    "si = 567.00 * 5.6 * 3\n",
    "si"
   ]
  },
  {
   "cell_type": "code",
   "execution_count": 5,
   "id": "c35c3107-9b09-4231-a532-24cbb112a23e",
   "metadata": {},
   "outputs": [
    {
     "data": {
      "text/plain": [
       "10092.599999999999"
      ]
     },
     "execution_count": 5,
     "metadata": {},
     "output_type": "execute_result"
    }
   ],
   "source": [
    "total = principle_amount + si\n",
    "total"
   ]
  },
  {
   "cell_type": "markdown",
   "id": "24159382-aba4-4813-a1be-61e156a8b001",
   "metadata": {},
   "source": [
    "area of circle"
   ]
  },
  {
   "cell_type": "code",
   "execution_count": 6,
   "id": "25b83d46-4f91-427a-9413-91f5eff05c31",
   "metadata": {},
   "outputs": [
    {
     "data": {
      "text/plain": [
       "263.76"
      ]
     },
     "execution_count": 6,
     "metadata": {},
     "output_type": "execute_result"
    }
   ],
   "source": [
    "area = 3.14 * 84\n",
    "area"
   ]
  },
  {
   "cell_type": "markdown",
   "id": "fd3f86d6-494a-45b7-96fe-06507fdf0dc3",
   "metadata": {},
   "source": [
    "#area of square . area = 2**(len) so len will be sqrt of area"
   ]
  },
  {
   "cell_type": "code",
   "execution_count": 7,
   "id": "207a95e3-549a-4332-989b-88c3a5d92db7",
   "metadata": {},
   "outputs": [
    {
     "data": {
      "text/plain": [
       "44.721359549995796"
      ]
     },
     "execution_count": 7,
     "metadata": {},
     "output_type": "execute_result"
    }
   ],
   "source": [
    "import math\n",
    "sqrt = math.sqrt(2000)\n",
    "sqrt\n"
   ]
  },
  {
   "cell_type": "code",
   "execution_count": 8,
   "id": "c45f4d26-ddb1-49b4-998f-a941832ec873",
   "metadata": {},
   "outputs": [
    {
     "data": {
      "text/plain": [
       "4200.0"
      ]
     },
     "execution_count": 8,
     "metadata": {},
     "output_type": "execute_result"
    }
   ],
   "source": [
    "#speed = distance / time\n",
    "speed = 490 / 7 * 60 #per sec\n",
    "speed"
   ]
  },
  {
   "cell_type": "code",
   "execution_count": 15,
   "id": "a0efc764-b1ee-4242-81d5-ce9920878cdf",
   "metadata": {},
   "outputs": [
    {
     "name": "stdout",
     "output_type": "stream",
     "text": [
      "Daily Sales Summary:\n",
      "- Product 1: Sold 15 units at $20.0 each, Total: $300.0\n",
      "- Product 2: Sold 10 units at $35.0 each, Total: $350.0\n",
      "- Product 3: Sold 20 units at $12.0 each, Total: $240.0\n",
      "Total Sales for the Day: $890.0\n"
     ]
    }
   ],
   "source": [
    "# Prices and quantities for each product\n",
    "product1_price = 20.0  # Price per unit for product 1\n",
    "product1_quantity = 15  # Quantity sold of product 1\n",
    "\n",
    "product2_price = 35.0  # Price per unit for product 2\n",
    "product2_quantity = 10  # Quantity sold of product 2\n",
    "\n",
    "product3_price = 12.0  # Price per unit for product 3\n",
    "product3_quantity = 20  # Quantity sold of product 3\n",
    "\n",
    "product1Sale = product1_quantity * product1_price\n",
    "product2Sale = product2_quantity * product2_price\n",
    "product3Sale = product3_quantity * product3_price\n",
    "totalSales = product1Sale + product2Sale + product3Sale\n",
    "\n",
    "totalSalesSummary = f\"\"\"Daily Sales Summary:\n",
    "- Product 1: Sold {product1_quantity} units at ${product1_price} each, Total: ${product1Sale}\n",
    "- Product 2: Sold {product2_quantity} units at ${product2_price} each, Total: ${product2Sale}\n",
    "- Product 3: Sold {product3_quantity} units at ${product3_price} each, Total: ${product3Sale}\n",
    "Total Sales for the Day: ${totalSales}\"\"\"\n",
    "print (totalSalesSummary)\n"
   ]
  },
  {
   "cell_type": "code",
   "execution_count": 16,
   "id": "b8f5151d-6b43-43c3-9700-ec5ae9f03c16",
   "metadata": {},
   "outputs": [
    {
     "data": {
      "text/plain": [
       "['__add__',\n",
       " '__class__',\n",
       " '__class_getitem__',\n",
       " '__contains__',\n",
       " '__delattr__',\n",
       " '__delitem__',\n",
       " '__dir__',\n",
       " '__doc__',\n",
       " '__eq__',\n",
       " '__format__',\n",
       " '__ge__',\n",
       " '__getattribute__',\n",
       " '__getitem__',\n",
       " '__getstate__',\n",
       " '__gt__',\n",
       " '__hash__',\n",
       " '__iadd__',\n",
       " '__imul__',\n",
       " '__init__',\n",
       " '__init_subclass__',\n",
       " '__iter__',\n",
       " '__le__',\n",
       " '__len__',\n",
       " '__lt__',\n",
       " '__mul__',\n",
       " '__ne__',\n",
       " '__new__',\n",
       " '__reduce__',\n",
       " '__reduce_ex__',\n",
       " '__repr__',\n",
       " '__reversed__',\n",
       " '__rmul__',\n",
       " '__setattr__',\n",
       " '__setitem__',\n",
       " '__sizeof__',\n",
       " '__str__',\n",
       " '__subclasshook__',\n",
       " 'append',\n",
       " 'clear',\n",
       " 'copy',\n",
       " 'count',\n",
       " 'extend',\n",
       " 'index',\n",
       " 'insert',\n",
       " 'pop',\n",
       " 'remove',\n",
       " 'reverse',\n",
       " 'sort']"
      ]
     },
     "execution_count": 16,
     "metadata": {},
     "output_type": "execute_result"
    }
   ],
   "source": [
    "items = [\"apple\", \"banana\"]\n",
    "dir(items)"
   ]
  },
  {
   "cell_type": "code",
   "execution_count": null,
   "id": "83a73dee-cf24-4eba-83fb-4870678757bc",
   "metadata": {},
   "outputs": [],
   "source": []
  }
 ],
 "metadata": {
  "kernelspec": {
   "display_name": "Python 3 (ipykernel)",
   "language": "python",
   "name": "python3"
  },
  "language_info": {
   "codemirror_mode": {
    "name": "ipython",
    "version": 3
   },
   "file_extension": ".py",
   "mimetype": "text/x-python",
   "name": "python",
   "nbconvert_exporter": "python",
   "pygments_lexer": "ipython3",
   "version": "3.13.0"
  }
 },
 "nbformat": 4,
 "nbformat_minor": 5
}
