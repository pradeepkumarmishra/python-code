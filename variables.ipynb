{
 "cells": [
  {
   "cell_type": "code",
   "execution_count": 19,
   "id": "66bd99c4-a381-49c6-a40b-4dfd35a9a17c",
   "metadata": {},
   "outputs": [
    {
     "name": "stdout",
     "output_type": "stream",
     "text": [
      "3 3.4 False\n",
      "2\n",
      "55\n",
      "77\n",
      "23\n",
      "45\n",
      "78.5\n"
     ]
    }
   ],
   "source": [
    "a = 3\n",
    "b = 3.4\n",
    "c = b > 200\n",
    "d = 'hello'\n",
    "\n",
    "print (a, b, c)\n",
    "\n",
    "c = 567\n",
    "\n",
    "c, d\n",
    "age = [23, 45, 78.5]\n",
    "\n",
    "for i in [2, 55, 77]:\n",
    "    print (i)\n",
    "\n",
    "type(age)\n",
    "\n",
    "def printNum(jo):\n",
    "    for i in jo:\n",
    "        print (i)\n",
    "\n",
    "printNum(age)"
   ]
  },
  {
   "cell_type": "code",
   "execution_count": 22,
   "id": "7bcae1ab-4214-4cb4-aaa2-937f2e783efb",
   "metadata": {},
   "outputs": [
    {
     "data": {
      "text/plain": [
       "'Pradeep Mishra is of age 23 who works at HPE and lives in BLR'"
      ]
     },
     "execution_count": 22,
     "metadata": {},
     "output_type": "execute_result"
    }
   ],
   "source": [
    "name = \"Pradeep Mishra\"\n",
    "age = 23\n",
    "work = \"HPE\"\n",
    "city = \"BLR\"\n",
    "info = f\"{name} is of age {age} who works at {work} and lives in {city}\"\n",
    "info"
   ]
  },
  {
   "cell_type": "code",
   "execution_count": 23,
   "id": "bfa33d0d-73b5-4c3f-9914-3c699ab72e2c",
   "metadata": {},
   "outputs": [
    {
     "name": "stdout",
     "output_type": "stream",
     "text": [
      "Pradeep Mishra is of age 23 who works at HPE and lives in BLR\n"
     ]
    }
   ],
   "source": [
    "print(info)"
   ]
  },
  {
   "cell_type": "code",
   "execution_count": 27,
   "id": "1332c5b7-1439-4ff8-acfd-69b401cb015b",
   "metadata": {},
   "outputs": [
    {
     "data": {
      "text/plain": [
       "'a'"
      ]
     },
     "execution_count": 27,
     "metadata": {},
     "output_type": "execute_result"
    }
   ],
   "source": [
    "name[-1:]\n"
   ]
  },
  {
   "cell_type": "code",
   "execution_count": 28,
   "id": "c41cfe71-f69c-4279-a2ad-a2054c1e2202",
   "metadata": {},
   "outputs": [
    {
     "data": {
      "text/plain": [
       "'I eat 3 vegetables and 2 fruits daily'"
      ]
     },
     "execution_count": 28,
     "metadata": {},
     "output_type": "execute_result"
    }
   ],
   "source": [
    "fruits = 2\n",
    "vegetables = 3\n",
    "eatingNo = f\"I eat {vegetables} vegetables and {fruits} fruits daily\"\n",
    "eatingNo"
   ]
  },
  {
   "cell_type": "code",
   "execution_count": 29,
   "id": "72a9721f-7a8e-43ad-b89b-7bde56928aa2",
   "metadata": {},
   "outputs": [
    {
     "data": {
      "text/plain": [
       "'The Himalaya'"
      ]
     },
     "execution_count": 29,
     "metadata": {},
     "output_type": "execute_result"
    }
   ],
   "source": [
    "text = \"The Himalayas are one of the youngest mountain ranges on the planet.\"\n",
    "text[0:12]"
   ]
  },
  {
   "cell_type": "code",
   "execution_count": 32,
   "id": "11635c90-df24-4ba2-909d-48b8e39b3578",
   "metadata": {},
   "outputs": [
    {
     "data": {
      "text/plain": [
       "'mountain range'"
      ]
     },
     "execution_count": 32,
     "metadata": {},
     "output_type": "execute_result"
    }
   ],
   "source": [
    "text[-30:-16]"
   ]
  },
  {
   "cell_type": "code",
   "execution_count": 34,
   "id": "a55b0375-d022-47b8-890d-40132d45a32c",
   "metadata": {},
   "outputs": [
    {
     "data": {
      "text/plain": [
       "68"
      ]
     },
     "execution_count": 34,
     "metadata": {},
     "output_type": "execute_result"
    }
   ],
   "source": [
    "len(text)"
   ]
  },
  {
   "cell_type": "code",
   "execution_count": 42,
   "id": "acd7e3ce-1efc-4b78-84a2-e78eed81b074",
   "metadata": {},
   "outputs": [
    {
     "data": {
      "text/plain": [
       "'on the planet'"
      ]
     },
     "execution_count": 42,
     "metadata": {},
     "output_type": "execute_result"
    }
   ],
   "source": [
    "planetTxt = text[-14:-1]\n",
    "planetTxt\n"
   ]
  },
  {
   "cell_type": "code",
   "execution_count": 43,
   "id": "b986bc52-0775-4f00-87d7-26d6dabf2aa2",
   "metadata": {},
   "outputs": [
    {
     "data": {
      "text/plain": [
       "'The Himalayas on the planet'"
      ]
     },
     "execution_count": 43,
     "metadata": {},
     "output_type": "execute_result"
    }
   ],
   "source": [
    "f\"The Himalayas {planetTxt}\""
   ]
  },
  {
   "cell_type": "code",
   "execution_count": 46,
   "id": "e4b80c6b-7f83-4b14-bfd8-2cda33f1346e",
   "metadata": {},
   "outputs": [
    {
     "data": {
      "text/plain": [
       "'There are 9 planets in the solar system'"
      ]
     },
     "execution_count": 46,
     "metadata": {},
     "output_type": "execute_result"
    }
   ],
   "source": [
    "string= \"There are 9 planets in the solar system\"\n",
    "string"
   ]
  },
  {
   "cell_type": "code",
   "execution_count": 47,
   "id": "e0dee7b4-0d47-4719-be72-b7531bc68e1c",
   "metadata": {},
   "outputs": [
    {
     "data": {
      "text/plain": [
       "'There are 8 planets in the solar system'"
      ]
     },
     "execution_count": 47,
     "metadata": {},
     "output_type": "execute_result"
    }
   ],
   "source": [
    "string = string.replace(\"9\", \"8\")\n",
    "string"
   ]
  },
  {
   "cell_type": "code",
   "execution_count": 48,
   "id": "1e22b607-57d9-4882-8f35-ff46eb924797",
   "metadata": {},
   "outputs": [
    {
     "name": "stdout",
     "output_type": "stream",
     "text": [
      "False\n"
     ]
    }
   ],
   "source": [
    "word = \"Python\"\n",
    "print(\"PyT\" in word)"
   ]
  },
  {
   "cell_type": "code",
   "execution_count": null,
   "id": "fc3b2c1b-7c8c-4c8d-bbeb-2b439c4175c8",
   "metadata": {},
   "outputs": [],
   "source": []
  }
 ],
 "metadata": {
  "kernelspec": {
   "display_name": "Python 3 (ipykernel)",
   "language": "python",
   "name": "python3"
  },
  "language_info": {
   "codemirror_mode": {
    "name": "ipython",
    "version": 3
   },
   "file_extension": ".py",
   "mimetype": "text/x-python",
   "name": "python",
   "nbconvert_exporter": "python",
   "pygments_lexer": "ipython3",
   "version": "3.13.0"
  }
 },
 "nbformat": 4,
 "nbformat_minor": 5
}
