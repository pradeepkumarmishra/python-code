{
 "cells": [
  {
   "cell_type": "code",
   "execution_count": 1,
   "id": "5d6c1bfe-7232-4bde-86cc-52ecb7c28b55",
   "metadata": {},
   "outputs": [
    {
     "name": "stdout",
     "output_type": "stream",
     "text": [
      "Requirement already satisfied: numpy in /Users/pradeepmishra/PyCharmMiscProject/.venv/lib/python3.13/site-packages (2.2.5)\n",
      "\n",
      "\u001B[1m[\u001B[0m\u001B[34;49mnotice\u001B[0m\u001B[1;39;49m]\u001B[0m\u001B[39;49m A new release of pip is available: \u001B[0m\u001B[31;49m25.0.1\u001B[0m\u001B[39;49m -> \u001B[0m\u001B[32;49m25.1.1\u001B[0m\n",
      "\u001B[1m[\u001B[0m\u001B[34;49mnotice\u001B[0m\u001B[1;39;49m]\u001B[0m\u001B[39;49m To update, run: \u001B[0m\u001B[32;49mpip install --upgrade pip\u001B[0m\n"
     ]
    }
   ],
   "source": [
    "!pip install numpy"
   ]
  },
  {
   "cell_type": "code",
   "execution_count": 2,
   "id": "5e697a1e-a75c-4efb-acf0-ca3b12e70e6a",
   "metadata": {},
   "outputs": [
    {
     "name": "stdout",
     "output_type": "stream",
     "text": [
      "Requirement already satisfied: pandas in /Users/pradeepmishra/PyCharmMiscProject/.venv/lib/python3.13/site-packages (2.2.3)\n",
      "Requirement already satisfied: numpy>=1.26.0 in /Users/pradeepmishra/PyCharmMiscProject/.venv/lib/python3.13/site-packages (from pandas) (2.2.5)\n",
      "Requirement already satisfied: python-dateutil>=2.8.2 in /Users/pradeepmishra/PyCharmMiscProject/.venv/lib/python3.13/site-packages (from pandas) (2.9.0.post0)\n",
      "Requirement already satisfied: pytz>=2020.1 in /Users/pradeepmishra/PyCharmMiscProject/.venv/lib/python3.13/site-packages (from pandas) (2025.2)\n",
      "Requirement already satisfied: tzdata>=2022.7 in /Users/pradeepmishra/PyCharmMiscProject/.venv/lib/python3.13/site-packages (from pandas) (2025.2)\n",
      "Requirement already satisfied: six>=1.5 in /Users/pradeepmishra/PyCharmMiscProject/.venv/lib/python3.13/site-packages (from python-dateutil>=2.8.2->pandas) (1.17.0)\n",
      "\n",
      "\u001B[1m[\u001B[0m\u001B[34;49mnotice\u001B[0m\u001B[1;39;49m]\u001B[0m\u001B[39;49m A new release of pip is available: \u001B[0m\u001B[31;49m25.0.1\u001B[0m\u001B[39;49m -> \u001B[0m\u001B[32;49m25.1.1\u001B[0m\n",
      "\u001B[1m[\u001B[0m\u001B[34;49mnotice\u001B[0m\u001B[1;39;49m]\u001B[0m\u001B[39;49m To update, run: \u001B[0m\u001B[32;49mpip install --upgrade pip\u001B[0m\n"
     ]
    }
   ],
   "source": [
    "!pip install pandas"
   ]
  },
  {
   "cell_type": "code",
   "id": "0cfc0eea-7c12-4d71-9d8e-55c43bf81e6e",
   "metadata": {
    "ExecuteTime": {
     "end_time": "2025-05-08T05:52:02.065406Z",
     "start_time": "2025-05-08T05:52:02.059765Z"
    }
   },
   "source": [
    "def yield_run(n):\n",
    "    for i in range(n):\n",
    "        yield i\n",
    "        i += 1\n",
    "\n",
    "runner = yield_run(10)\n",
    "next(runner)\n",
    "next(runner)\n",
    "next(runner)\n",
    "next(runner)\n",
    "next(runner)\n",
    "next(runner)\n",
    "for i in runner:\n",
    "    print(i)\n",
    "    "
   ],
   "outputs": [
    {
     "name": "stdout",
     "output_type": "stream",
     "text": [
      "6\n",
      "7\n",
      "8\n",
      "9\n"
     ]
    }
   ],
   "execution_count": 2
  },
  {
   "cell_type": "code",
   "id": "fe314936-5265-44a5-b4f4-6e78d9a43c51",
   "metadata": {
    "ExecuteTime": {
     "end_time": "2025-05-08T06:25:34.697762Z",
     "start_time": "2025-05-08T06:25:34.683149Z"
    }
   },
   "source": [
    "def fibanacci(n):\n",
    "    a, b = 0, 1\n",
    "    yield a\n",
    "    for i in range(n):\n",
    "        a, b = b, a + b\n",
    "        yield b\n",
    "    return None\n",
    "\n",
    "result = [i for i in fibanacci(10)]\n",
    "result\n"
   ],
   "outputs": [
    {
     "data": {
      "text/plain": [
       "[0, 1, 2, 3, 5, 8, 13, 21, 34, 55, 89]"
      ]
     },
     "execution_count": 17,
     "metadata": {},
     "output_type": "execute_result"
    }
   ],
   "execution_count": 17
  }
 ],
 "metadata": {
  "kernelspec": {
   "display_name": "Python 3 (ipykernel)",
   "language": "python",
   "name": "python3"
  },
  "language_info": {
   "codemirror_mode": {
    "name": "ipython",
    "version": 3
   },
   "file_extension": ".py",
   "mimetype": "text/x-python",
   "name": "python",
   "nbconvert_exporter": "python",
   "pygments_lexer": "ipython3",
   "version": "3.13.0"
  }
 },
 "nbformat": 4,
 "nbformat_minor": 5
}
